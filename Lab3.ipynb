{
  "nbformat": 4,
  "nbformat_minor": 0,
  "metadata": {
    "colab": {
      "provenance": [],
      "authorship_tag": "ABX9TyO2L2HHp2l4DRXM2Jvdalk+",
      "include_colab_link": true
    },
    "kernelspec": {
      "name": "python3",
      "display_name": "Python 3"
    },
    "language_info": {
      "name": "python"
    }
  },
  "cells": [
    {
      "cell_type": "markdown",
      "metadata": {
        "id": "view-in-github",
        "colab_type": "text"
      },
      "source": [
        "<a href=\"https://colab.research.google.com/github/NWJoman/AH2179/blob/main/Lab3.ipynb\" target=\"_parent\"><img src=\"https://colab.research.google.com/assets/colab-badge.svg\" alt=\"Open In Colab\"/></a>"
      ]
    },
    {
      "cell_type": "markdown",
      "source": [
        "# Test\n"
      ],
      "metadata": {
        "id": "bGzbpClye7Pk"
      }
    },
    {
      "cell_type": "code",
      "source": [
        "import pandas as pd\n",
        "from sklearn.metrics import ConfusionMatrixDisplay as cmd\n",
        "from sklearn.metrics import accuracy_score\n",
        "from sklearn.model_selection import train_test_split, GridSearchCV\n",
        "# Different methods used\n",
        "from sklearn.linear_model import LogisticRegression\n",
        "from sklearn.neighbors import KNeighborsClassifier\n",
        "from sklearn.ensemble import RandomForestClassifier\n",
        "from xgboost import XGBClassifier\n",
        "from sklearn.svm import SVC\n",
        "from sklearn.naive_bayes import BernoulliNB\n",
        "import os\n",
        "from sklearn.preprocessing import LabelEncoder\n",
        "from sklearn.metrics import ConfusionMatrixDisplay as cmd\n",
        "from sklearn.metrics import accuracy_score, precision_score, recall_score\n",
        "import warnings\n",
        "from sklearn.exceptions import ConvergenceWarning\n",
        "warnings.filterwarnings(\"ignore\", category=ConvergenceWarning)\n",
        "\n",
        "url = 'https://raw.githubusercontent.com/zhenliangma/Applied-AI-in-Transportation/master/Exercise-3%20mode%20choice%20model/modeChoiceData.csv'\n",
        "data = pd.read_csv(url)"
      ],
      "metadata": {
        "id": "Yt7YA89vG3Ox"
      },
      "execution_count": null,
      "outputs": []
    },
    {
      "cell_type": "code",
      "source": [
        "data.head()"
      ],
      "metadata": {
        "colab": {
          "base_uri": "https://localhost:8080/",
          "height": 226
        },
        "id": "2kxlNnfp9Mm7",
        "outputId": "f9477546-1745-4572-95d6-2edf9ef31d5a"
      },
      "execution_count": null,
      "outputs": [
        {
          "output_type": "execute_result",
          "data": {
            "text/plain": [
              "   ID  time_car  cost_car  time_bus  cost_bus  access_bus  time_air  cost_air  \\\n",
              "0   1       275        50       330        35          20        80        65   \n",
              "1   2       275        45       330        15           5        70       110   \n",
              "2   3       275        45       390        15          25        70        80   \n",
              "3   4       300        45       300        15          10        60       110   \n",
              "4   5       390        35       390        35          10        60        95   \n",
              "\n",
              "   access_air service_air  time_rail  cost_rail  access_rail service_rail  \\\n",
              "0          55        food        120         45            5    no-frills   \n",
              "1          40        wifi        170         55           25         food   \n",
              "2          55   no-frills        155         35            5    no-frills   \n",
              "3          40        wifi        155         65           20    no-frills   \n",
              "4          45        wifi        155         65           15         food   \n",
              "\n",
              "  choice  \n",
              "0    air  \n",
              "1   rail  \n",
              "2   rail  \n",
              "3   rail  \n",
              "4   rail  "
            ],
            "text/html": [
              "\n",
              "  <div id=\"df-75d277c1-16ce-4344-8b16-fde22161814d\" class=\"colab-df-container\">\n",
              "    <div>\n",
              "<style scoped>\n",
              "    .dataframe tbody tr th:only-of-type {\n",
              "        vertical-align: middle;\n",
              "    }\n",
              "\n",
              "    .dataframe tbody tr th {\n",
              "        vertical-align: top;\n",
              "    }\n",
              "\n",
              "    .dataframe thead th {\n",
              "        text-align: right;\n",
              "    }\n",
              "</style>\n",
              "<table border=\"1\" class=\"dataframe\">\n",
              "  <thead>\n",
              "    <tr style=\"text-align: right;\">\n",
              "      <th></th>\n",
              "      <th>ID</th>\n",
              "      <th>time_car</th>\n",
              "      <th>cost_car</th>\n",
              "      <th>time_bus</th>\n",
              "      <th>cost_bus</th>\n",
              "      <th>access_bus</th>\n",
              "      <th>time_air</th>\n",
              "      <th>cost_air</th>\n",
              "      <th>access_air</th>\n",
              "      <th>service_air</th>\n",
              "      <th>time_rail</th>\n",
              "      <th>cost_rail</th>\n",
              "      <th>access_rail</th>\n",
              "      <th>service_rail</th>\n",
              "      <th>choice</th>\n",
              "    </tr>\n",
              "  </thead>\n",
              "  <tbody>\n",
              "    <tr>\n",
              "      <th>0</th>\n",
              "      <td>1</td>\n",
              "      <td>275</td>\n",
              "      <td>50</td>\n",
              "      <td>330</td>\n",
              "      <td>35</td>\n",
              "      <td>20</td>\n",
              "      <td>80</td>\n",
              "      <td>65</td>\n",
              "      <td>55</td>\n",
              "      <td>food</td>\n",
              "      <td>120</td>\n",
              "      <td>45</td>\n",
              "      <td>5</td>\n",
              "      <td>no-frills</td>\n",
              "      <td>air</td>\n",
              "    </tr>\n",
              "    <tr>\n",
              "      <th>1</th>\n",
              "      <td>2</td>\n",
              "      <td>275</td>\n",
              "      <td>45</td>\n",
              "      <td>330</td>\n",
              "      <td>15</td>\n",
              "      <td>5</td>\n",
              "      <td>70</td>\n",
              "      <td>110</td>\n",
              "      <td>40</td>\n",
              "      <td>wifi</td>\n",
              "      <td>170</td>\n",
              "      <td>55</td>\n",
              "      <td>25</td>\n",
              "      <td>food</td>\n",
              "      <td>rail</td>\n",
              "    </tr>\n",
              "    <tr>\n",
              "      <th>2</th>\n",
              "      <td>3</td>\n",
              "      <td>275</td>\n",
              "      <td>45</td>\n",
              "      <td>390</td>\n",
              "      <td>15</td>\n",
              "      <td>25</td>\n",
              "      <td>70</td>\n",
              "      <td>80</td>\n",
              "      <td>55</td>\n",
              "      <td>no-frills</td>\n",
              "      <td>155</td>\n",
              "      <td>35</td>\n",
              "      <td>5</td>\n",
              "      <td>no-frills</td>\n",
              "      <td>rail</td>\n",
              "    </tr>\n",
              "    <tr>\n",
              "      <th>3</th>\n",
              "      <td>4</td>\n",
              "      <td>300</td>\n",
              "      <td>45</td>\n",
              "      <td>300</td>\n",
              "      <td>15</td>\n",
              "      <td>10</td>\n",
              "      <td>60</td>\n",
              "      <td>110</td>\n",
              "      <td>40</td>\n",
              "      <td>wifi</td>\n",
              "      <td>155</td>\n",
              "      <td>65</td>\n",
              "      <td>20</td>\n",
              "      <td>no-frills</td>\n",
              "      <td>rail</td>\n",
              "    </tr>\n",
              "    <tr>\n",
              "      <th>4</th>\n",
              "      <td>5</td>\n",
              "      <td>390</td>\n",
              "      <td>35</td>\n",
              "      <td>390</td>\n",
              "      <td>35</td>\n",
              "      <td>10</td>\n",
              "      <td>60</td>\n",
              "      <td>95</td>\n",
              "      <td>45</td>\n",
              "      <td>wifi</td>\n",
              "      <td>155</td>\n",
              "      <td>65</td>\n",
              "      <td>15</td>\n",
              "      <td>food</td>\n",
              "      <td>rail</td>\n",
              "    </tr>\n",
              "  </tbody>\n",
              "</table>\n",
              "</div>\n",
              "    <div class=\"colab-df-buttons\">\n",
              "\n",
              "  <div class=\"colab-df-container\">\n",
              "    <button class=\"colab-df-convert\" onclick=\"convertToInteractive('df-75d277c1-16ce-4344-8b16-fde22161814d')\"\n",
              "            title=\"Convert this dataframe to an interactive table.\"\n",
              "            style=\"display:none;\">\n",
              "\n",
              "  <svg xmlns=\"http://www.w3.org/2000/svg\" height=\"24px\" viewBox=\"0 -960 960 960\">\n",
              "    <path d=\"M120-120v-720h720v720H120Zm60-500h600v-160H180v160Zm220 220h160v-160H400v160Zm0 220h160v-160H400v160ZM180-400h160v-160H180v160Zm440 0h160v-160H620v160ZM180-180h160v-160H180v160Zm440 0h160v-160H620v160Z\"/>\n",
              "  </svg>\n",
              "    </button>\n",
              "\n",
              "  <style>\n",
              "    .colab-df-container {\n",
              "      display:flex;\n",
              "      gap: 12px;\n",
              "    }\n",
              "\n",
              "    .colab-df-convert {\n",
              "      background-color: #E8F0FE;\n",
              "      border: none;\n",
              "      border-radius: 50%;\n",
              "      cursor: pointer;\n",
              "      display: none;\n",
              "      fill: #1967D2;\n",
              "      height: 32px;\n",
              "      padding: 0 0 0 0;\n",
              "      width: 32px;\n",
              "    }\n",
              "\n",
              "    .colab-df-convert:hover {\n",
              "      background-color: #E2EBFA;\n",
              "      box-shadow: 0px 1px 2px rgba(60, 64, 67, 0.3), 0px 1px 3px 1px rgba(60, 64, 67, 0.15);\n",
              "      fill: #174EA6;\n",
              "    }\n",
              "\n",
              "    .colab-df-buttons div {\n",
              "      margin-bottom: 4px;\n",
              "    }\n",
              "\n",
              "    [theme=dark] .colab-df-convert {\n",
              "      background-color: #3B4455;\n",
              "      fill: #D2E3FC;\n",
              "    }\n",
              "\n",
              "    [theme=dark] .colab-df-convert:hover {\n",
              "      background-color: #434B5C;\n",
              "      box-shadow: 0px 1px 3px 1px rgba(0, 0, 0, 0.15);\n",
              "      filter: drop-shadow(0px 1px 2px rgba(0, 0, 0, 0.3));\n",
              "      fill: #FFFFFF;\n",
              "    }\n",
              "  </style>\n",
              "\n",
              "    <script>\n",
              "      const buttonEl =\n",
              "        document.querySelector('#df-75d277c1-16ce-4344-8b16-fde22161814d button.colab-df-convert');\n",
              "      buttonEl.style.display =\n",
              "        google.colab.kernel.accessAllowed ? 'block' : 'none';\n",
              "\n",
              "      async function convertToInteractive(key) {\n",
              "        const element = document.querySelector('#df-75d277c1-16ce-4344-8b16-fde22161814d');\n",
              "        const dataTable =\n",
              "          await google.colab.kernel.invokeFunction('convertToInteractive',\n",
              "                                                    [key], {});\n",
              "        if (!dataTable) return;\n",
              "\n",
              "        const docLinkHtml = 'Like what you see? Visit the ' +\n",
              "          '<a target=\"_blank\" href=https://colab.research.google.com/notebooks/data_table.ipynb>data table notebook</a>'\n",
              "          + ' to learn more about interactive tables.';\n",
              "        element.innerHTML = '';\n",
              "        dataTable['output_type'] = 'display_data';\n",
              "        await google.colab.output.renderOutput(dataTable, element);\n",
              "        const docLink = document.createElement('div');\n",
              "        docLink.innerHTML = docLinkHtml;\n",
              "        element.appendChild(docLink);\n",
              "      }\n",
              "    </script>\n",
              "  </div>\n",
              "\n",
              "\n",
              "<div id=\"df-dab52992-e1eb-43e3-8e48-06aea27560c8\">\n",
              "  <button class=\"colab-df-quickchart\" onclick=\"quickchart('df-dab52992-e1eb-43e3-8e48-06aea27560c8')\"\n",
              "            title=\"Suggest charts.\"\n",
              "            style=\"display:none;\">\n",
              "\n",
              "<svg xmlns=\"http://www.w3.org/2000/svg\" height=\"24px\"viewBox=\"0 0 24 24\"\n",
              "     width=\"24px\">\n",
              "    <g>\n",
              "        <path d=\"M19 3H5c-1.1 0-2 .9-2 2v14c0 1.1.9 2 2 2h14c1.1 0 2-.9 2-2V5c0-1.1-.9-2-2-2zM9 17H7v-7h2v7zm4 0h-2V7h2v10zm4 0h-2v-4h2v4z\"/>\n",
              "    </g>\n",
              "</svg>\n",
              "  </button>\n",
              "\n",
              "<style>\n",
              "  .colab-df-quickchart {\n",
              "      --bg-color: #E8F0FE;\n",
              "      --fill-color: #1967D2;\n",
              "      --hover-bg-color: #E2EBFA;\n",
              "      --hover-fill-color: #174EA6;\n",
              "      --disabled-fill-color: #AAA;\n",
              "      --disabled-bg-color: #DDD;\n",
              "  }\n",
              "\n",
              "  [theme=dark] .colab-df-quickchart {\n",
              "      --bg-color: #3B4455;\n",
              "      --fill-color: #D2E3FC;\n",
              "      --hover-bg-color: #434B5C;\n",
              "      --hover-fill-color: #FFFFFF;\n",
              "      --disabled-bg-color: #3B4455;\n",
              "      --disabled-fill-color: #666;\n",
              "  }\n",
              "\n",
              "  .colab-df-quickchart {\n",
              "    background-color: var(--bg-color);\n",
              "    border: none;\n",
              "    border-radius: 50%;\n",
              "    cursor: pointer;\n",
              "    display: none;\n",
              "    fill: var(--fill-color);\n",
              "    height: 32px;\n",
              "    padding: 0;\n",
              "    width: 32px;\n",
              "  }\n",
              "\n",
              "  .colab-df-quickchart:hover {\n",
              "    background-color: var(--hover-bg-color);\n",
              "    box-shadow: 0 1px 2px rgba(60, 64, 67, 0.3), 0 1px 3px 1px rgba(60, 64, 67, 0.15);\n",
              "    fill: var(--button-hover-fill-color);\n",
              "  }\n",
              "\n",
              "  .colab-df-quickchart-complete:disabled,\n",
              "  .colab-df-quickchart-complete:disabled:hover {\n",
              "    background-color: var(--disabled-bg-color);\n",
              "    fill: var(--disabled-fill-color);\n",
              "    box-shadow: none;\n",
              "  }\n",
              "\n",
              "  .colab-df-spinner {\n",
              "    border: 2px solid var(--fill-color);\n",
              "    border-color: transparent;\n",
              "    border-bottom-color: var(--fill-color);\n",
              "    animation:\n",
              "      spin 1s steps(1) infinite;\n",
              "  }\n",
              "\n",
              "  @keyframes spin {\n",
              "    0% {\n",
              "      border-color: transparent;\n",
              "      border-bottom-color: var(--fill-color);\n",
              "      border-left-color: var(--fill-color);\n",
              "    }\n",
              "    20% {\n",
              "      border-color: transparent;\n",
              "      border-left-color: var(--fill-color);\n",
              "      border-top-color: var(--fill-color);\n",
              "    }\n",
              "    30% {\n",
              "      border-color: transparent;\n",
              "      border-left-color: var(--fill-color);\n",
              "      border-top-color: var(--fill-color);\n",
              "      border-right-color: var(--fill-color);\n",
              "    }\n",
              "    40% {\n",
              "      border-color: transparent;\n",
              "      border-right-color: var(--fill-color);\n",
              "      border-top-color: var(--fill-color);\n",
              "    }\n",
              "    60% {\n",
              "      border-color: transparent;\n",
              "      border-right-color: var(--fill-color);\n",
              "    }\n",
              "    80% {\n",
              "      border-color: transparent;\n",
              "      border-right-color: var(--fill-color);\n",
              "      border-bottom-color: var(--fill-color);\n",
              "    }\n",
              "    90% {\n",
              "      border-color: transparent;\n",
              "      border-bottom-color: var(--fill-color);\n",
              "    }\n",
              "  }\n",
              "</style>\n",
              "\n",
              "  <script>\n",
              "    async function quickchart(key) {\n",
              "      const quickchartButtonEl =\n",
              "        document.querySelector('#' + key + ' button');\n",
              "      quickchartButtonEl.disabled = true;  // To prevent multiple clicks.\n",
              "      quickchartButtonEl.classList.add('colab-df-spinner');\n",
              "      try {\n",
              "        const charts = await google.colab.kernel.invokeFunction(\n",
              "            'suggestCharts', [key], {});\n",
              "      } catch (error) {\n",
              "        console.error('Error during call to suggestCharts:', error);\n",
              "      }\n",
              "      quickchartButtonEl.classList.remove('colab-df-spinner');\n",
              "      quickchartButtonEl.classList.add('colab-df-quickchart-complete');\n",
              "    }\n",
              "    (() => {\n",
              "      let quickchartButtonEl =\n",
              "        document.querySelector('#df-dab52992-e1eb-43e3-8e48-06aea27560c8 button');\n",
              "      quickchartButtonEl.style.display =\n",
              "        google.colab.kernel.accessAllowed ? 'block' : 'none';\n",
              "    })();\n",
              "  </script>\n",
              "</div>\n",
              "    </div>\n",
              "  </div>\n"
            ]
          },
          "metadata": {},
          "execution_count": 22
        }
      ]
    },
    {
      "cell_type": "code",
      "source": [
        "#One-Hot Encoding\n",
        "df = pd.get_dummies(data, columns=['service_air', 'service_rail'])\n",
        "\n",
        "x = df.drop(['choice','ID',], axis=1)\n",
        "y = df['choice']\n",
        "x_train, x_test, y_train, y_test = train_test_split(x, y, test_size=0.2,random_state=0)"
      ],
      "metadata": {
        "id": "3jTlcHVPG9AR"
      },
      "execution_count": null,
      "outputs": []
    },
    {
      "cell_type": "code",
      "source": [
        "#(1)LR\n",
        "params = {\n",
        "     'C': [0.017] # Tested from spans 0.01 to 5 in varied increments\n",
        " }\n",
        "model = LogisticRegression(max_iter=1000, random_state=0)\n",
        "\n",
        "grid_search = GridSearchCV(estimator=model, param_grid=params, cv=5, scoring='accuracy')\n",
        "\n",
        "# Fit the GridSearchCV object to the training data to perform hyperparameter tuning\n",
        "grid_search.fit(x_train, y_train)\n",
        "\n",
        "# Retrieve the best hyperparameters identified by the grid search\n",
        "best_params = grid_search.best_params_\n",
        "print(best_params)\n",
        "# Retrieve the best cross-validated accuracy score achieved with the best hyperparameters\n",
        "best_score = grid_search.best_score_\n",
        "\n",
        "# Set 'model' to be the best estimator (model with the best hyperparameters) identified by the grid search\n",
        "model = grid_search.best_estimator_\n",
        "\n",
        "cmd.from_estimator(model, x_test, y_test,cmap='Blues',colorbar=False)\n",
        "\n",
        "\n",
        "##---------------------Different measurements---------------------------\n",
        "print(f'Accuracy: {accuracy_score(y_test,model.predict(x_test))}')\n",
        "print(f'Precision: {precision_score(y_test,model.predict(x_test),average=None)}')\n",
        "print(f'Recall: {recall_score(y_test,model.predict(x_test),average=None)}')"
      ],
      "metadata": {
        "colab": {
          "base_uri": "https://localhost:8080/",
          "height": 520
        },
        "id": "U3qAQVbAHO9N",
        "outputId": "9d1bc17b-38ee-4ffe-a5b3-c7d909d30df7"
      },
      "execution_count": null,
      "outputs": [
        {
          "output_type": "stream",
          "name": "stdout",
          "text": [
            "{'C': 0.017}\n",
            "Accuracy: 0.5762987012987013\n",
            "Precision: [0.55714286 0.25       0.48401826 0.67193676]\n",
            "Recall: [0.56521739 0.04545455 0.53807107 0.65637066]\n"
          ]
        },
        {
          "output_type": "display_data",
          "data": {
            "text/plain": [
              "<Figure size 640x480 with 1 Axes>"
            ],
            "image/png": "[encoded data removed]"
          },
          "metadata": {}
        }
      ]
    },
    {
      "cell_type": "code",
      "source": [
        "#(2)KNN\n",
        "params = {\n",
        "     'n_neighbors': [31], #Tested in the range 20 to 50\n",
        "     'weights': ['uniform']\n",
        "}\n",
        "model=KNeighborsClassifier()\n",
        "\n",
        "grid_search = GridSearchCV(estimator=model, param_grid=params, cv=5, scoring='accuracy')\n",
        "\n",
        "# Fit the GridSearchCV object to the training data to perform hyperparameter tuning\n",
        "grid_search.fit(x_train, y_train)\n",
        "\n",
        "# Retrieve the best hyperparameters identified by the grid search\n",
        "best_params = grid_search.best_params_\n",
        "print(best_params)\n",
        "# Retrieve the best cross-validated accuracy score achieved with the best hyperparameters\n",
        "best_score = grid_search.best_score_\n",
        "\n",
        "# Set 'model' to be the best estimator (model with the best hyperparameters) identified by the grid search\n",
        "model = grid_search.best_estimator_\n",
        "\n",
        "cmd.from_estimator(model, x_test, y_test,cmap='Blues',colorbar=False)\n",
        "\n",
        "\n",
        "##---------------------Different measurements---------------------------\n",
        "print(f'Accuracy: {accuracy_score(y_test,model.predict(x_test))}')\n",
        "print(f'Precision: {precision_score(y_test,model.predict(x_test),average=None)}')\n",
        "print(f'Recall: {recall_score(y_test,model.predict(x_test),average=None)}')"
      ],
      "metadata": {
        "colab": {
          "base_uri": "https://localhost:8080/",
          "height": 576
        },
        "id": "ya9SlAa5HTj_",
        "outputId": "aee76731-e941-41ac-d328-d4153392ebc9"
      },
      "execution_count": null,
      "outputs": [
        {
          "output_type": "stream",
          "name": "stdout",
          "text": [
            "{'n_neighbors': 31, 'weights': 'uniform'}\n",
            "Accuracy: 0.5032467532467533\n"
          ]
        },
        {
          "output_type": "stream",
          "name": "stderr",
          "text": [
            "/usr/local/lib/python3.10/dist-packages/sklearn/metrics/_classification.py:1344: UndefinedMetricWarning: Precision is ill-defined and being set to 0.0 in labels with no predicted samples. Use `zero_division` parameter to control this behavior.\n",
            "  _warn_prf(average, modifier, msg_start, len(result))\n"
          ]
        },
        {
          "output_type": "stream",
          "name": "stdout",
          "text": [
            "Precision: [0.47692308 0.         0.43243243 0.57575758]\n",
            "Recall: [0.44927536 0.         0.48730964 0.58687259]\n"
          ]
        },
        {
          "output_type": "display_data",
          "data": {
            "text/plain": [
              "<Figure size 640x480 with 1 Axes>"
            ],
            "image/png": "[encoded data removed]"
          },
          "metadata": {}
        }
      ]
    },
    {
      "cell_type": "code",
      "source": [
        "#(3)RF\n",
        "# Saw no difference between 100 and 500 n_estimators so left it at 100, at 750 it got slightly better results but im unsure if that would be too many.\n",
        "\n",
        "params = {\n",
        "     'n_estimators': [100],\n",
        "     'max_depth': [4], #Tested from 1 to 30\n",
        "     'min_samples_split': [2], #Tested from 1 to 10\n",
        "     'min_samples_leaf': [1] #Tested from 1 to 5\n",
        " }\n",
        "model = RandomForestClassifier(random_state=0)\n",
        "\n",
        "grid_search = GridSearchCV(estimator=model, param_grid=params, cv=5, scoring='accuracy')\n",
        "\n",
        "# Fit the GridSearchCV object to the training data to perform hyperparameter tuning\n",
        "grid_search.fit(x_train, y_train)\n",
        "\n",
        "# Retrieve the best hyperparameters identified by the grid search\n",
        "best_params = grid_search.best_params_\n",
        "print(best_params)\n",
        "# Retrieve the best cross-validated accuracy score achieved with the best hyperparameters\n",
        "best_score = grid_search.best_score_\n",
        "\n",
        "# Set 'model' to be the best estimator (model with the best hyperparameters) identified by the grid search\n",
        "model = grid_search.best_estimator_\n",
        "\n",
        "cmd.from_estimator(model, x_test, y_test,cmap='Blues',colorbar=False)\n",
        "\n",
        "\n",
        "##---------------------Different measurements---------------------------\n",
        "print(f'Accuracy: {accuracy_score(y_test,model.predict(x_test))}')\n",
        "print(f'Precision: {precision_score(y_test,model.predict(x_test),average=None)}')\n",
        "print(f'Recall: {recall_score(y_test,model.predict(x_test),average=None)}')"
      ],
      "metadata": {
        "colab": {
          "base_uri": "https://localhost:8080/",
          "height": 576
        },
        "id": "jbH3Mda6HWNh",
        "outputId": "19860afc-80c9-4cce-ee7d-d7fce0ddee34"
      },
      "execution_count": null,
      "outputs": [
        {
          "output_type": "stream",
          "name": "stdout",
          "text": [
            "{'max_depth': 4, 'min_samples_leaf': 1, 'min_samples_split': 2, 'n_estimators': 100}\n",
            "Accuracy: 0.5438311688311688\n",
            "Precision: [0.59       0.         0.4389313  0.63385827]\n",
            "Recall: [0.42753623 0.         0.58375635 0.62162162]\n"
          ]
        },
        {
          "output_type": "stream",
          "name": "stderr",
          "text": [
            "/usr/local/lib/python3.10/dist-packages/sklearn/metrics/_classification.py:1344: UndefinedMetricWarning: Precision is ill-defined and being set to 0.0 in labels with no predicted samples. Use `zero_division` parameter to control this behavior.\n",
            "  _warn_prf(average, modifier, msg_start, len(result))\n"
          ]
        },
        {
          "output_type": "display_data",
          "data": {
            "text/plain": [
              "<Figure size 640x480 with 1 Axes>"
            ],
            "image/png": "[encoded data removed]"
          },
          "metadata": {}
        }
      ]
    },
    {
      "cell_type": "code",
      "source": [
        "#(4)XGBoost\n",
        "params = {\n",
        "     'learning_rate': [0.011], #Tested from 0.01 to 0.2\n",
        "     'n_estimators': [300],#Tested 100, 200, 300, 450, 600\n",
        "     'max_depth': [3] #Tested 1 to 5\n",
        " }\n",
        "map = {'air': 0, 'bus': 1, 'car': 2,'rail':3}\n",
        "y_train = y_train.map(map)\n",
        "y_test = y_test.map(map)\n",
        "model =  XGBClassifier()\n",
        "\n",
        "grid_search = GridSearchCV(estimator=model, param_grid=params, cv=5, scoring='accuracy')\n",
        "\n",
        "# Fit the GridSearchCV object to the training data to perform hyperparameter tuning\n",
        "grid_search.fit(x_train, y_train)\n",
        "\n",
        "# Retrieve the best hyperparameters identified by the grid search\n",
        "best_params = grid_search.best_params_\n",
        "print(best_params)\n",
        "# Retrieve the best cross-validated accuracy score achieved with the best hyperparameters\n",
        "best_score = grid_search.best_score_\n",
        "\n",
        "# Set 'model' to be the best estimator (model with the best hyperparameters) identified by the grid search\n",
        "model = grid_search.best_estimator_\n",
        "\n",
        "cmd.from_estimator(model, x_test, y_test,cmap='Blues',colorbar=False)\n",
        "\n",
        "\n",
        "##---------------------Different measurements---------------------------\n",
        "print(f'Accuracy: {accuracy_score(y_test,model.predict(x_test))}')\n",
        "print(f'Precision: {precision_score(y_test,model.predict(x_test),average=None)}')\n",
        "print(f'Recall: {recall_score(y_test,model.predict(x_test),average=None)}')"
      ],
      "metadata": {
        "colab": {
          "base_uri": "https://localhost:8080/",
          "height": 576
        },
        "id": "V-68RD0xHX_4",
        "outputId": "76cb534f-0a04-4b24-d3b0-cdf2cd6c3b8b"
      },
      "execution_count": null,
      "outputs": [
        {
          "output_type": "stream",
          "name": "stdout",
          "text": [
            "{'learning_rate': 0.011, 'max_depth': 3, 'n_estimators': 300}\n",
            "Accuracy: 0.5746753246753247\n",
            "Precision: [0.57462687 0.         0.4841629  0.651341  ]\n",
            "Recall: [0.55797101 0.         0.54314721 0.65637066]\n"
          ]
        },
        {
          "output_type": "stream",
          "name": "stderr",
          "text": [
            "/usr/local/lib/python3.10/dist-packages/sklearn/metrics/_classification.py:1344: UndefinedMetricWarning: Precision is ill-defined and being set to 0.0 in labels with no predicted samples. Use `zero_division` parameter to control this behavior.\n",
            "  _warn_prf(average, modifier, msg_start, len(result))\n"
          ]
        },
        {
          "output_type": "display_data",
          "data": {
            "text/plain": [
              "<Figure size 640x480 with 1 Axes>"
            ],
            "image/png": "[encoded data removed]"
          },
          "metadata": {}
        }
      ]
    },
    {
      "cell_type": "code",
      "execution_count": null,
      "metadata": {
        "colab": {
          "base_uri": "https://localhost:8080/",
          "height": 576
        },
        "id": "EuNyp8iM8jeK",
        "outputId": "c2ab7639-13b3-4e1d-f79a-f6690d979a53"
      },
      "outputs": [
        {
          "output_type": "stream",
          "name": "stdout",
          "text": [
            "{'C': 0.017}\n",
            "Accuracy: 0.5698051948051948\n",
            "Precision: [0.54794521 0.         0.47663551 0.66015625]\n",
            "Recall: [0.57971014 0.         0.5177665  0.65250965]\n"
          ]
        },
        {
          "output_type": "stream",
          "name": "stderr",
          "text": [
            "/usr/local/lib/python3.10/dist-packages/sklearn/metrics/_classification.py:1344: UndefinedMetricWarning: Precision is ill-defined and being set to 0.0 in labels with no predicted samples. Use `zero_division` parameter to control this behavior.\n",
            "  _warn_prf(average, modifier, msg_start, len(result))\n"
          ]
        },
        {
          "output_type": "display_data",
          "data": {
            "text/plain": [
              "<Figure size 640x480 with 1 Axes>"
            ],
            "image/png": "[encoded data removed]"
          },
          "metadata": {}
        }
      ],
      "source": [
        "#(5)SVM\n",
        "params = {\n",
        "    'C': [0.017], #Tested 0.01 to 10\n",
        "}\n",
        "\n",
        "model= SVC(kernel=\"linear\")\n",
        "\n",
        "grid_search = GridSearchCV(estimator=model, param_grid=params, cv=5, scoring='accuracy')\n",
        "\n",
        "# Fit the GridSearchCV object to the training data to perform hyperparameter tuning\n",
        "grid_search.fit(x_train, y_train)\n",
        "\n",
        "# Retrieve the best hyperparameters identified by the grid search\n",
        "best_params = grid_search.best_params_\n",
        "print(best_params)\n",
        "# Retrieve the best cross-validated accuracy score achieved with the best hyperparameters\n",
        "best_score = grid_search.best_score_\n",
        "\n",
        "# Set 'model' to be the best estimator (model with the best hyperparameters) identified by the grid search\n",
        "model = grid_search.best_estimator_\n",
        "\n",
        "cmd.from_estimator(model, x_test, y_test,cmap='Blues',colorbar=False)\n",
        "\n",
        "\n",
        "##---------------------Different measurements---------------------------\n",
        "print(f'Accuracy: {accuracy_score(y_test,model.predict(x_test))}')\n",
        "print(f'Precision: {precision_score(y_test,model.predict(x_test),average=None)}')\n",
        "print(f'Recall: {recall_score(y_test,model.predict(x_test),average=None)}')"
      ]
    },
    {
      "cell_type": "code",
      "source": [],
      "metadata": {
        "id": "dfUKHAa0GS93"
      },
      "execution_count": null,
      "outputs": []
    }
  ]
}